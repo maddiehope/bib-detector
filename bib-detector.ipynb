{
 "cells": [
  {
   "cell_type": "markdown",
   "metadata": {},
   "source": [
    "# Bib Detector \n",
    "### Informatics 4000 Mini-Project #3\n",
    "**due November 30th, 2023**\n",
    "\n",
    "\n",
    "An application that leverages deep learning models for vision-based race number detection and gender classification.\n",
    "\n",
    "\n",
    "**Datasets used in this application:**\n",
    "\n",
    "- **'bib-numbers'**- I combined two datasets: [OCR Racing Bib Number Recognition](https://www.kaggle.com/datasets/trainingdatapro/ocr-race-numbers/) and [RBNR](https://people.csail.mit.edu/talidekel/RBNR.html) (around 180 images total).\n",
    "- **gender** - I used a [dataset downloaded from Kraggle](https://www.kaggle.com/datasets/maciejgronczynski/biggest-genderface-recognition-dataset). \n",
    "\n",
    "Both datasets have around a 70/30 split of data between training and testing sets, respectively."
   ]
  },
  {
   "cell_type": "code",
   "execution_count": 39,
   "metadata": {},
   "outputs": [],
   "source": [
    "import os"
   ]
  },
  {
   "cell_type": "code",
   "execution_count": 40,
   "metadata": {},
   "outputs": [
    {
     "name": "stdout",
     "output_type": "stream",
     "text": [
      "Number of files in 'train' directory: 121\n",
      "Number of files in 'test' directory: 52\n"
     ]
    }
   ],
   "source": [
    "# FILE COUNT FOR 'bib-numbers'\n",
    "\n",
    "# Parent directory containing the 'bib-numbers' subdirectory\n",
    "parent_directory = 'datasets'\n",
    "\n",
    "# List of subdirectories\n",
    "subdirectories = ['train', 'test']\n",
    "\n",
    "# Iterate through the subdirectories to count the files\n",
    "for subdirectory in subdirectories:\n",
    "    subdirectory_path = os.path.join(parent_directory, 'bib-numbers', subdirectory)\n",
    "    file_count = sum([len(files) for _, _, files in os.walk(subdirectory_path)])\n",
    "    print(f\"Number of files in '{subdirectory}' directory: {file_count}\")\n",
    "\n",
    "# Calculate the total number of files\n",
    "total_train_files = sum([len(files) for _, _, files in os.walk(os.path.join(parent_directory, 'bib-numbers', 'train'))])\n",
    "total_test_files = sum([len(files) for _, _, files in os.walk(os.path.join(parent_directory, 'bib-numbers', 'test'))])"
   ]
  },
  {
   "cell_type": "code",
   "execution_count": 41,
   "metadata": {},
   "outputs": [
    {
     "name": "stdout",
     "output_type": "stream",
     "text": [
      "\n",
      "Subdirectory: train\n",
      "man: 12374 files\n",
      "woman: 6642 files\n",
      "\n",
      "Subdirectory: test\n",
      "man: 5304 files\n",
      "woman: 2847 files\n"
     ]
    }
   ],
   "source": [
    "# FILE COUNT FOR 'gender'\n",
    "\n",
    "# List of categories\n",
    "categories = ['man', 'woman']\n",
    "\n",
    "# Iterate through the subdirectories and categories to count the files\n",
    "for subdirectory in subdirectories:\n",
    "    print(f\"\\nSubdirectory: {subdirectory}\")\n",
    "    for category in categories:\n",
    "        category_path = os.path.join(parent_directory, 'gender', subdirectory, category)\n",
    "        file_count = sum([len(files) for _, _, files in os.walk(category_path)])\n",
    "        print(f\"{category}: {file_count} files\")\n"
   ]
  }
 ],
 "metadata": {
  "kernelspec": {
   "display_name": "info4000",
   "language": "python",
   "name": "python3"
  },
  "language_info": {
   "codemirror_mode": {
    "name": "ipython",
    "version": 3
   },
   "file_extension": ".py",
   "mimetype": "text/x-python",
   "name": "python",
   "nbconvert_exporter": "python",
   "pygments_lexer": "ipython3",
   "version": "3.9.18"
  }
 },
 "nbformat": 4,
 "nbformat_minor": 2
}
